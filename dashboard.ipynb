{
 "cells": [
  {
   "cell_type": "code",
   "execution_count": 10,
   "id": "initial_id",
   "metadata": {
    "collapsed": true,
    "ExecuteTime": {
     "end_time": "2024-03-05T14:28:49.616061Z",
     "start_time": "2024-03-05T14:28:49.609912Z"
    }
   },
   "outputs": [],
   "source": [
    "import pandas as pd\n",
    "import matplotlib.pyplot as plt\n",
    "import seaborn as sns\n",
    "import streamlit as st\n",
    "from babel.numbers import format_currency\n",
    "sns.set(style='dark')"
   ]
  },
  {
   "cell_type": "code",
   "outputs": [],
   "source": [
    "all_df = pd.read_csv(\"all_data.csv\")"
   ],
   "metadata": {
    "collapsed": false,
    "ExecuteTime": {
     "end_time": "2024-03-05T14:28:50.522462Z",
     "start_time": "2024-03-05T14:28:50.074483Z"
    }
   },
   "id": "18ee8c4bfe575ff9",
   "execution_count": 11
  },
  {
   "cell_type": "code",
   "outputs": [
    {
     "data": {
      "text/plain": "   No  year  month  day  hour  PM2.5  PM10   SO2   NO2     CO    O3  TEMP  \\\n0   1  2013      3    1     0    4.0   4.0   4.0   7.0  300.0  77.0  -0.7   \n1   2  2013      3    1     1    8.0   8.0   4.0   7.0  300.0  77.0  -1.1   \n2   3  2013      3    1     2    7.0   7.0   5.0  10.0  300.0  73.0  -1.1   \n3   4  2013      3    1     3    6.0   6.0  11.0  11.0  300.0  72.0  -1.4   \n4   5  2013      3    1     4    3.0   3.0  12.0  12.0  300.0  72.0  -2.0   \n\n     PRES  DEWP  RAIN   wd  WSPM       station        date  \n0  1023.0 -18.8   0.0  NNW   4.4  Aotizhongxin  2013-03-01  \n1  1023.2 -18.2   0.0    N   4.7  Aotizhongxin  2013-03-01  \n2  1023.5 -18.2   0.0  NNW   5.6  Aotizhongxin  2013-03-01  \n3  1024.5 -19.4   0.0   NW   3.1  Aotizhongxin  2013-03-01  \n4  1025.2 -19.5   0.0    N   2.0  Aotizhongxin  2013-03-01  ",
      "text/html": "<div>\n<style scoped>\n    .dataframe tbody tr th:only-of-type {\n        vertical-align: middle;\n    }\n\n    .dataframe tbody tr th {\n        vertical-align: top;\n    }\n\n    .dataframe thead th {\n        text-align: right;\n    }\n</style>\n<table border=\"1\" class=\"dataframe\">\n  <thead>\n    <tr style=\"text-align: right;\">\n      <th></th>\n      <th>No</th>\n      <th>year</th>\n      <th>month</th>\n      <th>day</th>\n      <th>hour</th>\n      <th>PM2.5</th>\n      <th>PM10</th>\n      <th>SO2</th>\n      <th>NO2</th>\n      <th>CO</th>\n      <th>O3</th>\n      <th>TEMP</th>\n      <th>PRES</th>\n      <th>DEWP</th>\n      <th>RAIN</th>\n      <th>wd</th>\n      <th>WSPM</th>\n      <th>station</th>\n      <th>date</th>\n    </tr>\n  </thead>\n  <tbody>\n    <tr>\n      <th>0</th>\n      <td>1</td>\n      <td>2013</td>\n      <td>3</td>\n      <td>1</td>\n      <td>0</td>\n      <td>4.0</td>\n      <td>4.0</td>\n      <td>4.0</td>\n      <td>7.0</td>\n      <td>300.0</td>\n      <td>77.0</td>\n      <td>-0.7</td>\n      <td>1023.0</td>\n      <td>-18.8</td>\n      <td>0.0</td>\n      <td>NNW</td>\n      <td>4.4</td>\n      <td>Aotizhongxin</td>\n      <td>2013-03-01</td>\n    </tr>\n    <tr>\n      <th>1</th>\n      <td>2</td>\n      <td>2013</td>\n      <td>3</td>\n      <td>1</td>\n      <td>1</td>\n      <td>8.0</td>\n      <td>8.0</td>\n      <td>4.0</td>\n      <td>7.0</td>\n      <td>300.0</td>\n      <td>77.0</td>\n      <td>-1.1</td>\n      <td>1023.2</td>\n      <td>-18.2</td>\n      <td>0.0</td>\n      <td>N</td>\n      <td>4.7</td>\n      <td>Aotizhongxin</td>\n      <td>2013-03-01</td>\n    </tr>\n    <tr>\n      <th>2</th>\n      <td>3</td>\n      <td>2013</td>\n      <td>3</td>\n      <td>1</td>\n      <td>2</td>\n      <td>7.0</td>\n      <td>7.0</td>\n      <td>5.0</td>\n      <td>10.0</td>\n      <td>300.0</td>\n      <td>73.0</td>\n      <td>-1.1</td>\n      <td>1023.5</td>\n      <td>-18.2</td>\n      <td>0.0</td>\n      <td>NNW</td>\n      <td>5.6</td>\n      <td>Aotizhongxin</td>\n      <td>2013-03-01</td>\n    </tr>\n    <tr>\n      <th>3</th>\n      <td>4</td>\n      <td>2013</td>\n      <td>3</td>\n      <td>1</td>\n      <td>3</td>\n      <td>6.0</td>\n      <td>6.0</td>\n      <td>11.0</td>\n      <td>11.0</td>\n      <td>300.0</td>\n      <td>72.0</td>\n      <td>-1.4</td>\n      <td>1024.5</td>\n      <td>-19.4</td>\n      <td>0.0</td>\n      <td>NW</td>\n      <td>3.1</td>\n      <td>Aotizhongxin</td>\n      <td>2013-03-01</td>\n    </tr>\n    <tr>\n      <th>4</th>\n      <td>5</td>\n      <td>2013</td>\n      <td>3</td>\n      <td>1</td>\n      <td>4</td>\n      <td>3.0</td>\n      <td>3.0</td>\n      <td>12.0</td>\n      <td>12.0</td>\n      <td>300.0</td>\n      <td>72.0</td>\n      <td>-2.0</td>\n      <td>1025.2</td>\n      <td>-19.5</td>\n      <td>0.0</td>\n      <td>N</td>\n      <td>2.0</td>\n      <td>Aotizhongxin</td>\n      <td>2013-03-01</td>\n    </tr>\n  </tbody>\n</table>\n</div>"
     },
     "execution_count": 12,
     "metadata": {},
     "output_type": "execute_result"
    }
   ],
   "source": [
    "all_df.head()"
   ],
   "metadata": {
    "collapsed": false,
    "ExecuteTime": {
     "end_time": "2024-03-05T14:28:50.542548Z",
     "start_time": "2024-03-05T14:28:50.525568Z"
    }
   },
   "id": "85dfdc7a200bf151",
   "execution_count": 12
  },
  {
   "cell_type": "code",
   "outputs": [],
   "source": [
    "all_df[\"date\"] = pd.to_datetime(all_df[\"date\"])"
   ],
   "metadata": {
    "collapsed": false,
    "ExecuteTime": {
     "end_time": "2024-03-05T14:28:51.217740Z",
     "start_time": "2024-03-05T14:28:51.172711Z"
    }
   },
   "id": "f43fbf5174d3ce6f",
   "execution_count": 13
  },
  {
   "cell_type": "code",
   "outputs": [
    {
     "name": "stdout",
     "output_type": "stream",
     "text": [
      "<class 'pandas.core.frame.DataFrame'>\n",
      "RangeIndex: 420768 entries, 0 to 420767\n",
      "Data columns (total 19 columns):\n",
      " #   Column   Non-Null Count   Dtype         \n",
      "---  ------   --------------   -----         \n",
      " 0   No       420768 non-null  int64         \n",
      " 1   year     420768 non-null  int64         \n",
      " 2   month    420768 non-null  int64         \n",
      " 3   day      420768 non-null  int64         \n",
      " 4   hour     420768 non-null  int64         \n",
      " 5   PM2.5    420768 non-null  float64       \n",
      " 6   PM10     420768 non-null  float64       \n",
      " 7   SO2      420768 non-null  float64       \n",
      " 8   NO2      420768 non-null  float64       \n",
      " 9   CO       420768 non-null  float64       \n",
      " 10  O3       420768 non-null  float64       \n",
      " 11  TEMP     420768 non-null  float64       \n",
      " 12  PRES     420768 non-null  float64       \n",
      " 13  DEWP     420768 non-null  float64       \n",
      " 14  RAIN     420768 non-null  float64       \n",
      " 15  wd       420768 non-null  object        \n",
      " 16  WSPM     420768 non-null  float64       \n",
      " 17  station  420768 non-null  object        \n",
      " 18  date     420768 non-null  datetime64[ns]\n",
      "dtypes: datetime64[ns](1), float64(11), int64(5), object(2)\n",
      "memory usage: 61.0+ MB\n"
     ]
    }
   ],
   "source": [
    "all_df.info()"
   ],
   "metadata": {
    "collapsed": false,
    "ExecuteTime": {
     "end_time": "2024-03-05T14:28:51.641683Z",
     "start_time": "2024-03-05T14:28:51.598120Z"
    }
   },
   "id": "dc9e685b8028caa1",
   "execution_count": 14
  },
  {
   "cell_type": "code",
   "outputs": [],
   "source": [
    "min_date = all_df[\"date\"].min()\n",
    "max_date = all_df[\"date\"].max()"
   ],
   "metadata": {
    "collapsed": false,
    "ExecuteTime": {
     "end_time": "2024-03-05T14:28:52.163343Z",
     "start_time": "2024-03-05T14:28:52.154463Z"
    }
   },
   "id": "da1dcb684abb8b22",
   "execution_count": 15
  },
  {
   "cell_type": "code",
   "outputs": [],
   "source": [
    "with st.sidebar:\n",
    "    start_date, end_date = st.date_input(\n",
    "        label='Rentang Waktu',min_value=min_date,\n",
    "        max_value=max_date,\n",
    "        value=[min_date, max_date]\n",
    "    )"
   ],
   "metadata": {
    "collapsed": false,
    "ExecuteTime": {
     "end_time": "2024-03-05T14:28:52.839389Z",
     "start_time": "2024-03-05T14:28:52.830905Z"
    }
   },
   "id": "b8f573c94e3fc1b",
   "execution_count": 16
  },
  {
   "cell_type": "code",
   "outputs": [],
   "source": [],
   "metadata": {
    "collapsed": false
   },
   "id": "4d00ee27e71d89cb"
  }
 ],
 "metadata": {
  "kernelspec": {
   "display_name": "Python 3",
   "language": "python",
   "name": "python3"
  },
  "language_info": {
   "codemirror_mode": {
    "name": "ipython",
    "version": 2
   },
   "file_extension": ".py",
   "mimetype": "text/x-python",
   "name": "python",
   "nbconvert_exporter": "python",
   "pygments_lexer": "ipython2",
   "version": "2.7.6"
  }
 },
 "nbformat": 4,
 "nbformat_minor": 5
}
